{
 "cells": [
  {
   "cell_type": "code",
   "execution_count": 1,
   "metadata": {},
   "outputs": [
    {
     "name": "stdout",
     "output_type": "stream",
     "text": [
      "my name is: GLORIA\n"
     ]
    }
   ],
   "source": [
    "NAME=input(\"my name is: \")\n",
    "#The program allow me enter my name\n"
   ]
  },
  {
   "cell_type": "code",
   "execution_count": 3,
   "metadata": {},
   "outputs": [
    {
     "name": "stdout",
     "output_type": "stream",
     "text": [
      "GLORIA KIMARIO\n"
     ]
    }
   ],
   "source": [
    "my_name=\"GLORIA KIMARIO\"\n",
    "print(my_name)"
   ]
  },
  {
   "cell_type": "code",
   "execution_count": 6,
   "metadata": {},
   "outputs": [
    {
     "name": "stdout",
     "output_type": "stream",
     "text": [
      "1 2 3 4 5\n"
     ]
    }
   ],
   "source": [
    "my_integer=\"1 2 3 4 5\"\n",
    "print(my_integer)"
   ]
  },
  {
   "cell_type": "code",
   "execution_count": 9,
   "metadata": {},
   "outputs": [
    {
     "name": "stdout",
     "output_type": "stream",
     "text": [
      "enter your name:JOHN JUMA\n"
     ]
    }
   ],
   "source": [
    "nane=input(\"enter your name:\")\n"
   ]
  },
  {
   "cell_type": "code",
   "execution_count": 10,
   "metadata": {},
   "outputs": [
    {
     "name": "stdout",
     "output_type": "stream",
     "text": [
      "This number is 12\n"
     ]
    }
   ],
   "source": [
    "X=int(input (\"This number is \"))"
   ]
  },
  {
   "cell_type": "code",
   "execution_count": 11,
   "metadata": {},
   "outputs": [
    {
     "name": "stdout",
     "output_type": "stream",
     "text": [
      "this number is  12\n"
     ]
    }
   ],
   "source": [
    "x=12\n",
    "print(\"This number is \",x)"
   ]
  },
  {
   "cell_type": "code",
   "execution_count": 2,
   "metadata": {},
   "outputs": [
    {
     "name": "stdout",
     "output_type": "stream",
     "text": [
      "This number is 23\n",
      "the answer is\n",
      " 46\n"
     ]
    }
   ],
   "source": [
    "variable=int(input(\"This number is \"))\n",
    "print(\"the answer is\\n\",variable*2)"
   ]
  },
  {
   "cell_type": "code",
   "execution_count": 3,
   "metadata": {},
   "outputs": [
    {
     "name": "stdout",
     "output_type": "stream",
     "text": [
      "first number is 3\n",
      "second number is 45\n",
      "the answer is\n",
      " 135\n"
     ]
    }
   ],
   "source": [
    "x=int(input(\"first number is \"))\n",
    "y=int(input(\"second number is \"))\n",
    "print(\"the answer is\\n\",x*y)"
   ]
  },
  {
   "cell_type": "code",
   "execution_count": 18,
   "metadata": {},
   "outputs": [
    {
     "name": "stdout",
     "output_type": "stream",
     "text": [
      "enter the number 65\n",
      "multiple_digit_number\n",
      "multiple_digit_number\n"
     ]
    }
   ],
   "source": [
    "num=int(input(\"enter the number \"))\n",
    "if num > 10: \n",
    "    print(\"multiple_digit_number\")\n",
    "    #print(\"multiple_digit_number\")\n",
    "else:\n",
    "    print(\"is not multiple_digit number\")"
   ]
  },
  {
   "cell_type": "code",
   "execution_count": 21,
   "metadata": {},
   "outputs": [
    {
     "name": "stdout",
     "output_type": "stream",
     "text": [
      "enter the number 4.5\n",
      "the number is single_digit\n"
     ]
    }
   ],
   "source": [
    "y=float(input(\"enter the number \"))\n",
    "if y >= 10:\n",
    "      print(\"the number is multiple_digit\")\n",
    "else:\n",
    "       print(\"the number is single_digit\")"
   ]
  },
  {
   "cell_type": "code",
   "execution_count": 24,
   "metadata": {},
   "outputs": [
    {
     "name": "stdout",
     "output_type": "stream",
     "text": [
      "enter your number5\n",
      "5\n"
     ]
    }
   ],
   "source": [
    "z=int(input(\"enter your number\"))\n",
    "while z>= 10:\n",
    "    z=z-10\n",
    "print(z)\n",
    "    \n",
    "  "
   ]
  },
  {
   "cell_type": "code",
   "execution_count": null,
   "metadata": {},
   "outputs": [],
   "source": []
  }
 ],
 "metadata": {
  "kernelspec": {
   "display_name": "Python 3",
   "language": "python",
   "name": "python3"
  },
  "language_info": {
   "codemirror_mode": {
    "name": "ipython",
    "version": 3
   },
   "file_extension": ".py",
   "mimetype": "text/x-python",
   "name": "python",
   "nbconvert_exporter": "python",
   "pygments_lexer": "ipython3",
   "version": "3.6.5"
  }
 },
 "nbformat": 4,
 "nbformat_minor": 2
}
