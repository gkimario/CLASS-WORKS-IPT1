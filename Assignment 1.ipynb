{
 "cells": [
  {
   "cell_type": "code",
   "execution_count": 3,
   "metadata": {},
   "outputs": [
    {
     "name": "stdout",
     "output_type": "stream",
     "text": [
      "enter no of years   2\n",
      "121.00000000000001\n"
     ]
    }
   ],
   "source": [
    "p=100\n",
    "r=1.1\n",
    "t=int(input('enter no of years   '))\n",
    "g=(p*(r**t))\n",
    "print(g)"
   ]
  },
  {
   "cell_type": "code",
   "execution_count": 3,
   "metadata": {},
   "outputs": [
    {
     "name": "stdout",
     "output_type": "stream",
     "text": [
      "enter no of years   2\n",
      "result after inputed time is   121.00000000000001\n"
     ]
    }
   ],
   "source": [
    "savings=100\n",
    "factor=1.10\n",
    "time=int(input('enter no of years   '))\n",
    "result=(savings*(factor**time))\n",
    "print('result after inputed time is  ',result)"
   ]
  },
  {
   "cell_type": "code",
   "execution_count": 5,
   "metadata": {},
   "outputs": [
    {
     "name": "stdout",
     "output_type": "stream",
     "text": [
      "after one year product will be 110.00000000000001\n"
     ]
    },
    {
     "data": {
      "text/plain": [
       "float"
      ]
     },
     "execution_count": 5,
     "metadata": {},
     "output_type": "execute_result"
    }
   ],
   "source": [
    "savings=100\n",
    "factor=1.10\n",
    "product=((savings*factor)**1)\n",
    "print('after one year product will be',product)\n",
    "type(product)"
   ]
  },
  {
   "cell_type": "code",
   "execution_count": 8,
   "metadata": {},
   "outputs": [
    {
     "name": "stdout",
     "output_type": "stream",
     "text": [
      "compound statementcompound statement\n"
     ]
    }
   ],
   "source": [
    "desc=('compound statement')\n",
    "doubledesc=desc+desc\n",
    "print(doubledesc)"
   ]
  },
  {
   "cell_type": "code",
   "execution_count": 9,
   "metadata": {},
   "outputs": [
    {
     "name": "stdout",
     "output_type": "stream",
     "text": [
      "put the first name  \tomary\n",
      "put the second name  \tkitomary\n",
      "omarykitomary\n"
     ]
    }
   ],
   "source": [
    "juma=input(\"put the first name  \\t\")\n",
    "asha=input(\"put the second name  \\t\")\n",
    "penina=(juma + asha)\n",
    "print(penina)\n"
   ]
  },
  {
   "cell_type": "code",
   "execution_count": null,
   "metadata": {},
   "outputs": [],
   "source": []
  }
 ],
 "metadata": {
  "kernelspec": {
   "display_name": "Python 3",
   "language": "python",
   "name": "python3"
  },
  "language_info": {
   "codemirror_mode": {
    "name": "ipython",
    "version": 3
   },
   "file_extension": ".py",
   "mimetype": "text/x-python",
   "name": "python",
   "nbconvert_exporter": "python",
   "pygments_lexer": "ipython3",
   "version": "3.6.5"
  }
 },
 "nbformat": 4,
 "nbformat_minor": 2
}
